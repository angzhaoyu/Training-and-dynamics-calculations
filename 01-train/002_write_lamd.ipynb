{
 "cells": [
  {
   "cell_type": "code",
   "execution_count": null,
   "metadata": {},
   "outputs": [
    {
     "name": "stderr",
     "output_type": "stream",
     "text": [
      "100%|██████████| 343/343 [00:00<00:00, 622.52it/s]\n",
      "100%|██████████| 86/86 [00:00<00:00, 667.89it/s]\n"
     ]
    },
    {
     "data": {
      "text/plain": [
       "343"
      ]
     },
     "execution_count": 3,
     "metadata": {},
     "output_type": "execute_result"
    }
   ],
   "source": [
    "from ocpmodels.preprocessing import AtomsToGraphs\n",
    "from ocpmodels.datasets import SinglePointLmdbDataset, TrajectoryLmdbDataset\n",
    "import ase.io\n",
    "from ase.build import bulk\n",
    "from ase.build import fcc100, add_adsorbate, molecule\n",
    "from ase.constraints import FixAtoms\n",
    "from ase.calculators.emt import EMT\n",
    "from ase.optimize import BFGS\n",
    "import matplotlib.pyplot as plt\n",
    "import lmdb\n",
    "import pickle\n",
    "from tqdm import tqdm\n",
    "import torch\n",
    "import os\n",
    "from functions import *\n",
    "from ase.db import connect\n",
    "np.random.seed(42)\n",
    "\n",
    "db_path = \"./02-data_db/ads_ads-3s_ns3.db\"\n",
    "#split train:val:test = ?\n",
    "split = [8,2,0]\n",
    "lmdb_name = get_filename_from_path(db_path)\n",
    "\n",
    "os.makedirs(\"./03-lmdb/\"+lmdb_name+\"/train/\")\n",
    "train_path = (\"./03-lmdb/\"+lmdb_name +\"/train/\"+lmdb_name+\"train.lmdb\")\n",
    "\n",
    "os.makedirs(\"./03-lmdb/\"+lmdb_name+\"/val/\")\n",
    "val_path = (\"./03-lmdb/\"+lmdb_name+\"/val/\" +lmdb_name+\"val.lmdb\")\n",
    "\n",
    "if split[2] != 0:\n",
    "    os.makedirs(\"./03-lmdb/\"+lmdb_name+\"test/\")\n",
    "    test_path = (\"./03-lmdb/\"+lmdb_name+\"test/\"+lmdb_name+\"test.lmdb\")\n",
    "\n",
    "db = connect(db_path)\n",
    "a2g = AtomsToGraphs(\n",
    "    max_neigh=50,\n",
    "    radius=6,\n",
    "    r_energy=True,    # False for test data\n",
    "    r_forces=True,    # False for test data\n",
    "    r_distances=True,\n",
    "    r_fixed=True,\n",
    ")\n",
    "\n",
    "data_a2g = a2g.convert_all(db, disable_tqdm=True)\n",
    "sid_set, fid_set = get_sid_fid_from_db(db)\n",
    "\n",
    "\n",
    "data_a2g, sid_set, fid_set = shuft_a2g_sid_fid(data_a2g, sid_set, fid_set)\n",
    "\n",
    "train_a2g, val_a2g, test_a2g = split_array(data_a2g,split)\n",
    "train_sid, val_sid, test_sid = split_array(sid_set,split)\n",
    "train_fid, val_fid, test_fid = split_array(fid_set,split)\n",
    "\n",
    "train_a2g, train_sid, train_fid = shuft_a2g_sid_fid(train_a2g, train_sid, train_fid)\n",
    "val_a2g, val_sid, val_fid = shuft_a2g_sid_fid(val_a2g, val_sid, val_fid)\n",
    "test_a2g, test_sid, test_fid = shuft_a2g_sid_fid(test_a2g, test_sid, test_fid)\n",
    "\n",
    "train_ = write_lmdb(train_path, train_a2g, train_sid, train_fid)\n",
    "val_ = write_lmdb(val_path, val_a2g, val_sid, val_fid )\n",
    "if split[2] != 0 : \n",
    "    test_ = write_lmdb(test_path, test_a2g, test_sid, test_fid)\n",
    "dataset = TrajectoryLmdbDataset({\"src\": train_path})\n",
    "len(dataset)"
   ]
  },
  {
   "cell_type": "code",
   "execution_count": null,
   "metadata": {},
   "outputs": [],
   "source": []
  }
 ],
 "metadata": {
  "kernelspec": {
   "display_name": "ocp",
   "language": "python",
   "name": "ocp"
  },
  "language_info": {
   "codemirror_mode": {
    "name": "ipython",
    "version": 3
   },
   "file_extension": ".py",
   "mimetype": "text/x-python",
   "name": "python",
   "nbconvert_exporter": "python",
   "pygments_lexer": "ipython3",
   "version": "3.9.17"
  }
 },
 "nbformat": 4,
 "nbformat_minor": 2
}

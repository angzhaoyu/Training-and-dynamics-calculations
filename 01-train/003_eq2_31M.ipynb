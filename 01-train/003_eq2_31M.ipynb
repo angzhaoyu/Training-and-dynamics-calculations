{
 "cells": [
  {
   "cell_type": "code",
   "execution_count": 2,
   "metadata": {},
   "outputs": [],
   "source": [
    "from ocpmodels.datasets import TrajectoryLmdbDataset\n",
    "import numpy as np\n",
    "from  functions import *\n",
    "%run  ocp-tutorial.ipynb"
   ]
  },
  {
   "cell_type": "code",
   "execution_count": 3,
   "metadata": {},
   "outputs": [
    {
     "name": "stderr",
     "output_type": "stream",
     "text": [
      "e:\\soft\\path\\anaconda\\envs\\ocp\\lib\\site-packages\\IPython\\core\\interactiveshell.py:3505: UserWarning: TrajectoryLmdbDataset is deprecated and will be removed in the future.Please use 'LmdbDataset' instead.\n",
      "  exec(code_obj, self.user_global_ns, self.user_ns)\n"
     ]
    },
    {
     "data": {
      "text/plain": [
       "(-1.695643508367349, -0.0135889, 0.07754764, 343)"
      ]
     },
     "execution_count": 3,
     "metadata": {},
     "output_type": "execute_result"
    }
   ],
   "source": [
    "checkpoint = \"eq2_31M_ec4_allmd.pt\"\n",
    "src = \"./03-lmdb/ads_ads-3s_ns3\"\n",
    "max_epochs = 30\n",
    "batch_size = 3\n",
    "eval_batch_size = 3\n",
    "element_c = \"bs\"+str(batch_size)+\"_\"\n",
    "train_src = src + \"/train\"\n",
    "val_src =  src + \"/val\"\n",
    "id_name = get_filename_from_path(checkpoint)\n",
    "os.makedirs(\"./config\", exist_ok=True)\n",
    "os.makedirs(\"./train_log\", exist_ok=True)\n",
    "config_path = \"./config/\"+ element_c+get_filename_from_path(src)+\".yml\"\n",
    "train_txt = \"./train_log/\"+ element_c+get_filename_from_path(src)+ \"_\" +str(max_epochs) +\".txt\"\n",
    "train_dataset = TrajectoryLmdbDataset({\"src\": train_src})\n",
    "\n",
    "energies = []\n",
    "forces = []\n",
    "for data in train_dataset:\n",
    "  energies.append(data.y)\n",
    "  for i in range(3):\n",
    "    for j in range(len(data.force)):\n",
    "      forces.append(data.force[j][i])\n",
    "\n",
    "target_mean = np.mean(energies)\n",
    "target_std = np.std(energies)\n",
    "grad_target_mean = np.mean(forces)\n",
    "grad_target_std = np.std(forces)\n",
    "len_train = len(train_dataset)\n",
    "target_mean,grad_target_mean,grad_target_std,len_train"
   ]
  },
  {
   "cell_type": "code",
   "execution_count": 4,
   "metadata": {},
   "outputs": [
    {
     "name": "stderr",
     "output_type": "stream",
     "text": [
      "WARNING:root:Skipping scheduler setup. No training set found.\n"
     ]
    },
    {
     "data": {
      "text/plain": [
       "WindowsPath('d:/000-SI/01-train/config/bs3_ads_ads-3s_ns3.yml')"
      ]
     },
     "execution_count": 4,
     "metadata": {},
     "output_type": "execute_result"
    }
   ],
   "source": [
    "yml = generate_yml_config(checkpoint, config_path,\n",
    "                   delete=['slurm', 'cmd', 'logger',  'model_attributes',\n",
    "                           'dataset', 'test_dataset', 'val_dataset'],\n",
    "                   update={'gpus': 1,\n",
    "                           'task.dataset': 'lmdb',\n",
    "                           'optim.eval_every': int(f'{len_train}'),\n",
    "                           'optim.max_epochs': int(f'{max_epochs}'),\n",
    "                           'optim.num_workers' : 0,\n",
    "                           'optim.batch_size': int(f'{batch_size}') ,\n",
    "                           'optim.eval_batch_size' : int(f'{eval_batch_size}'),\n",
    "                           # Train data\n",
    "                           'dataset.train.src': \"%s\" % train_src,\n",
    "                           'dataset.train.normalize_labels': True,\n",
    "                           'dataset.train.target_mean': float(f'{target_mean}'),\n",
    "                           'dataset.train.target_std': float(f'{target_std}'),\n",
    "                           'dataset.train.grad_target_mean': float(f'{grad_target_mean}'),\n",
    "                           'dataset.train.grad_target_std': float(f'{grad_target_mean}'),\n",
    "                           # val data\n",
    "                           'dataset.val.src': \"%s\" % val_src,\n",
    "                          })\n",
    "\n",
    "yml"
   ]
  },
  {
   "cell_type": "code",
   "execution_count": 5,
   "metadata": {},
   "outputs": [
    {
     "name": "stdout",
     "output_type": "stream",
     "text": [
      "Elapsed time = 1289.9 seconds\n"
     ]
    }
   ],
   "source": [
    "import time\n",
    "t0 = time.time()\n",
    "! python {ocp_main()} --mode train --config-yml $yml --checkpoint $checkpoint \\\n",
    "  --run-dir fine-tuning  --identifier $id_name --amp > $train_txt 2>&1 \n",
    "print(f'Elapsed time = {time.time() - t0:1.1f} seconds')"
   ]
  }
 ],
 "metadata": {
  "kernelspec": {
   "display_name": "ocp",
   "language": "python",
   "name": "ocp"
  },
  "language_info": {
   "codemirror_mode": {
    "name": "ipython",
    "version": 3
   },
   "file_extension": ".py",
   "mimetype": "text/x-python",
   "name": "python",
   "nbconvert_exporter": "python",
   "pygments_lexer": "ipython3",
   "version": "3.9.17"
  },
  "orig_nbformat": 4
 },
 "nbformat": 4,
 "nbformat_minor": 2
}
